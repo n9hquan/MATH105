{
 "cells": [
  {
   "cell_type": "markdown",
   "metadata": {},
   "source": [
    "Homework 10 - Chapter 13 - Nguyen Chinh Quan - 220066"
   ]
  },
  {
   "cell_type": "code",
   "execution_count": 83,
   "metadata": {},
   "outputs": [],
   "source": [
    "import pandas as pd\n",
    "import numpy as np"
   ]
  },
  {
   "cell_type": "markdown",
   "metadata": {},
   "source": [
    "13.12."
   ]
  },
  {
   "cell_type": "code",
   "execution_count": 84,
   "metadata": {},
   "outputs": [
    {
     "name": "stdout",
     "output_type": "stream",
     "text": [
      "1000\n"
     ]
    }
   ],
   "source": [
    "sample_size_12 = 185 + 180 + 230 + 220 + 185\n",
    "list_12 = [185, 180, 230, 220, 185]\n",
    "print(sample_size_12)"
   ]
  },
  {
   "cell_type": "markdown",
   "metadata": {},
   "source": [
    "Flavors: Almond, vanilla, raspberry, caramel, hazelnut -> k = 5"
   ]
  },
  {
   "cell_type": "code",
   "execution_count": 85,
   "metadata": {},
   "outputs": [],
   "source": [
    "EF_12 = 1000 / 5 "
   ]
  },
  {
   "cell_type": "markdown",
   "metadata": {},
   "source": [
    "H0: p(almond) = p(vanilla) = p(raspberry) = p(caramel) = p(hazelnut) = 1/5\n"
   ]
  },
  {
   "cell_type": "markdown",
   "metadata": {},
   "source": [
    "Ha: p(flavor) != 1/5 (for each flavor)"
   ]
  },
  {
   "cell_type": "code",
   "execution_count": 86,
   "metadata": {},
   "outputs": [
    {
     "data": {
      "text/plain": [
       "10.75"
      ]
     },
     "execution_count": 86,
     "metadata": {},
     "output_type": "execute_result"
    }
   ],
   "source": [
    "x_squared_12 = 0\n",
    "for i in range(5):\n",
    "    x_squared_12 += ((list_12[i] - EF_12)**2 / EF_12)\n",
    "x_squared_12 "
   ]
  },
  {
   "cell_type": "markdown",
   "metadata": {},
   "source": [
    "alpha = 0.05 -> x^2(0.05, 4) = 9.488\n",
    "We see that 10.75 > 9.488, therefore there is evidence that customers who purchase flavor shots prefer one over the others."
   ]
  },
  {
   "cell_type": "markdown",
   "metadata": {},
   "source": [
    "13.20."
   ]
  },
  {
   "cell_type": "code",
   "execution_count": 87,
   "metadata": {},
   "outputs": [
    {
     "data": {
      "text/html": [
       "<div>\n",
       "<style scoped>\n",
       "    .dataframe tbody tr th:only-of-type {\n",
       "        vertical-align: middle;\n",
       "    }\n",
       "\n",
       "    .dataframe tbody tr th {\n",
       "        vertical-align: top;\n",
       "    }\n",
       "\n",
       "    .dataframe thead th {\n",
       "        text-align: right;\n",
       "    }\n",
       "</style>\n",
       "<table border=\"1\" class=\"dataframe\">\n",
       "  <thead>\n",
       "    <tr style=\"text-align: right;\">\n",
       "      <th></th>\n",
       "      <th>Tier</th>\n",
       "      <th>Frequency</th>\n",
       "    </tr>\n",
       "  </thead>\n",
       "  <tbody>\n",
       "    <tr>\n",
       "      <th>0</th>\n",
       "      <td>1</td>\n",
       "      <td>152</td>\n",
       "    </tr>\n",
       "    <tr>\n",
       "      <th>1</th>\n",
       "      <td>2</td>\n",
       "      <td>107</td>\n",
       "    </tr>\n",
       "    <tr>\n",
       "      <th>2</th>\n",
       "      <td>3</td>\n",
       "      <td>36</td>\n",
       "    </tr>\n",
       "    <tr>\n",
       "      <th>3</th>\n",
       "      <td>4</td>\n",
       "      <td>76</td>\n",
       "    </tr>\n",
       "  </tbody>\n",
       "</table>\n",
       "</div>"
      ],
      "text/plain": [
       "   Tier  Frequency\n",
       "0     1        152\n",
       "1     2        107\n",
       "2     3         36\n",
       "3     4         76"
      ]
     },
     "execution_count": 87,
     "metadata": {},
     "output_type": "execute_result"
    }
   ],
   "source": [
    "data_20 = pd.read_excel(r\"D:\\stat\\Tex-_Datasets\\Chapter 13\\ex13-20soliris.xls\")\n",
    "data_20"
   ]
  },
  {
   "cell_type": "markdown",
   "metadata": {},
   "source": [
    "a."
   ]
  },
  {
   "cell_type": "markdown",
   "metadata": {},
   "source": [
    "- H0: p1 = 0.35, p2 = 0.28, p3 = 0.12, p4 = 0.25\n",
    "- Ha: p(tier) != p(past records) (for each tier)"
   ]
  },
  {
   "cell_type": "code",
   "execution_count": 88,
   "metadata": {},
   "outputs": [
    {
     "name": "stdout",
     "output_type": "stream",
     "text": [
      "[129.85 103.88  44.52  92.75]\n",
      "8.52753176742395\n"
     ]
    }
   ],
   "source": [
    "sample_size_20 = data_20.Frequency.sum()\n",
    "sample_size_20\n",
    "list_proportion_20 = np.array([0.35, 0.28, 0.12, 0.25])\n",
    "list_20 = list_proportion_20*sample_size_20\n",
    "x_squared_20 = 0\n",
    "print(list_20)\n",
    "for i in range(4):\n",
    "    x_squared_20 += ((data_20.Frequency[i] - list_20[i])**2 / list_20[i])\n",
    "print(x_squared_20)"
   ]
  },
  {
   "cell_type": "markdown",
   "metadata": {},
   "source": [
    "- alpha = 0.05 -> x^2(0.05, 3) = 7.815\n",
    "- We see that 8.528 > 7.815, therefore there is a shift in the proportion of users by tiers."
   ]
  },
  {
   "cell_type": "markdown",
   "metadata": {},
   "source": [
    "b. \n",
    "- Tier 1 is ultilized more.\n",
    "- Tier 2 is ultilized more.\n",
    "- Tier 3 is ultilized less.\n",
    "- Tier 4 is ultilized less."
   ]
  },
  {
   "cell_type": "markdown",
   "metadata": {},
   "source": [
    "13.28."
   ]
  },
  {
   "cell_type": "code",
   "execution_count": 89,
   "metadata": {},
   "outputs": [
    {
     "data": {
      "text/html": [
       "<div>\n",
       "<style scoped>\n",
       "    .dataframe tbody tr th:only-of-type {\n",
       "        vertical-align: middle;\n",
       "    }\n",
       "\n",
       "    .dataframe tbody tr th {\n",
       "        vertical-align: top;\n",
       "    }\n",
       "\n",
       "    .dataframe thead th {\n",
       "        text-align: right;\n",
       "    }\n",
       "</style>\n",
       "<table border=\"1\" class=\"dataframe\">\n",
       "  <thead>\n",
       "    <tr style=\"text-align: right;\">\n",
       "      <th></th>\n",
       "      <th>Category</th>\n",
       "      <th>2012 responses</th>\n",
       "      <th>2014 sample</th>\n",
       "    </tr>\n",
       "  </thead>\n",
       "  <tbody>\n",
       "    <tr>\n",
       "      <th>0</th>\n",
       "      <td>Transportation</td>\n",
       "      <td>127</td>\n",
       "      <td>135</td>\n",
       "    </tr>\n",
       "    <tr>\n",
       "      <th>1</th>\n",
       "      <td>Growth</td>\n",
       "      <td>127</td>\n",
       "      <td>124</td>\n",
       "    </tr>\n",
       "    <tr>\n",
       "      <th>2</th>\n",
       "      <td>Crime</td>\n",
       "      <td>120</td>\n",
       "      <td>110</td>\n",
       "    </tr>\n",
       "    <tr>\n",
       "      <th>3</th>\n",
       "      <td>Economy</td>\n",
       "      <td>80</td>\n",
       "      <td>89</td>\n",
       "    </tr>\n",
       "    <tr>\n",
       "      <th>4</th>\n",
       "      <td>Government</td>\n",
       "      <td>67</td>\n",
       "      <td>62</td>\n",
       "    </tr>\n",
       "    <tr>\n",
       "      <th>5</th>\n",
       "      <td>Taxes</td>\n",
       "      <td>40</td>\n",
       "      <td>43</td>\n",
       "    </tr>\n",
       "    <tr>\n",
       "      <th>6</th>\n",
       "      <td>Social</td>\n",
       "      <td>33</td>\n",
       "      <td>39</td>\n",
       "    </tr>\n",
       "    <tr>\n",
       "      <th>7</th>\n",
       "      <td>Housing</td>\n",
       "      <td>39</td>\n",
       "      <td>45</td>\n",
       "    </tr>\n",
       "    <tr>\n",
       "      <th>8</th>\n",
       "      <td>Other</td>\n",
       "      <td>33</td>\n",
       "      <td>36</td>\n",
       "    </tr>\n",
       "  </tbody>\n",
       "</table>\n",
       "</div>"
      ],
      "text/plain": [
       "         Category  2012 responses  2014 sample\n",
       "0  Transportation             127          135\n",
       "1          Growth             127          124\n",
       "2           Crime             120          110\n",
       "3         Economy              80           89\n",
       "4      Government              67           62\n",
       "5           Taxes              40           43\n",
       "6          Social              33           39\n",
       "7         Housing              39           45\n",
       "8           Other              33           36"
      ]
     },
     "execution_count": 89,
     "metadata": {},
     "output_type": "execute_result"
    }
   ],
   "source": [
    "data_28 = pd.read_excel(r\"D:\\stat\\Tex-_Datasets\\Chapter 13\\ex13-28metro.xls\")\n",
    "data_28 "
   ]
  },
  {
   "cell_type": "markdown",
   "metadata": {},
   "source": [
    "a."
   ]
  },
  {
   "cell_type": "code",
   "execution_count": 90,
   "metadata": {},
   "outputs": [
    {
     "name": "stdout",
     "output_type": "stream",
     "text": [
      "666 683\n"
     ]
    }
   ],
   "source": [
    "sample_size_2012_28 = data_28[\"2012 responses\"].sum()\n",
    "sample_size_2014_28 = data_28[\"2014 sample\"].sum()\n",
    "print(sample_size_2012_28, sample_size_2014_28)"
   ]
  },
  {
   "cell_type": "code",
   "execution_count": 91,
   "metadata": {},
   "outputs": [
    {
     "data": {
      "text/plain": [
       "array([0.19069069, 0.19069069, 0.18018018, 0.12012012, 0.1006006 ,\n",
       "       0.06006006, 0.04954955, 0.05855856, 0.04954955])"
      ]
     },
     "execution_count": 91,
     "metadata": {},
     "output_type": "execute_result"
    }
   ],
   "source": [
    "proportion_2012_28 = np.array(data_28[\"2012 responses\"]) / sample_size_2012_28\n",
    "proportion_2012_28"
   ]
  },
  {
   "cell_type": "markdown",
   "metadata": {},
   "source": [
    "The proportion associated with each category for the 2012 responses: [0.19069069, 0.19069069, 0.18018018, 0.12012012, 0.1006006 , 0.06006006, 0.04954955, 0.05855856, 0.04954955]"
   ]
  },
  {
   "cell_type": "markdown",
   "metadata": {},
   "source": [
    "b."
   ]
  },
  {
   "cell_type": "code",
   "execution_count": 92,
   "metadata": {},
   "outputs": [
    {
     "data": {
      "text/plain": [
       "array([130.24174174, 130.24174174, 123.06306306,  82.04204204,\n",
       "        68.71021021,  41.02102102,  33.84234234,  39.9954955 ,\n",
       "        33.84234234])"
      ]
     },
     "execution_count": 92,
     "metadata": {},
     "output_type": "execute_result"
    }
   ],
   "source": [
    "expected_2014_28 = proportion_2012_28 * sample_size_2014_28\n",
    "expected_2014_28"
   ]
  },
  {
   "cell_type": "code",
   "execution_count": 93,
   "metadata": {},
   "outputs": [
    {
     "data": {
      "text/plain": [
       "4.750296353258287"
      ]
     },
     "execution_count": 93,
     "metadata": {},
     "output_type": "execute_result"
    }
   ],
   "source": [
    "x_squared_28 = 0\n",
    "for i in range(9):\n",
    "    x_squared_28 += ((data_28[\"2014 sample\"][i] - expected_2014_28[i])**2) / expected_2014_28[i]\n",
    "x_squared_28"
   ]
  },
  {
   "cell_type": "markdown",
   "metadata": {},
   "source": [
    " - H0: p(transportation) = 0.19, p(growth) = 0.19, p(crime) = 0.18, p(economy) = 0.12, p(government) = 0.10, p(taxes) = 0.06, p(social) = 0.05, p(housing) = 0.06, p(other) = 0.05\n",
    " - Ha: p(category) != p(category of 2012) (for each category)\n",
    " - alpha = 0.05 -> x^2(0.05, 8) = 15.507\n",
    " - We see that 4.75 < 15.507, therefore there is no evidence that the true 2012 population proportions have changed in 2014."
   ]
  },
  {
   "cell_type": "markdown",
   "metadata": {},
   "source": [
    "12.42."
   ]
  },
  {
   "cell_type": "code",
   "execution_count": 94,
   "metadata": {},
   "outputs": [
    {
     "data": {
      "text/html": [
       "<div>\n",
       "<style scoped>\n",
       "    .dataframe tbody tr th:only-of-type {\n",
       "        vertical-align: middle;\n",
       "    }\n",
       "\n",
       "    .dataframe tbody tr th {\n",
       "        vertical-align: top;\n",
       "    }\n",
       "\n",
       "    .dataframe thead th {\n",
       "        text-align: right;\n",
       "    }\n",
       "</style>\n",
       "<table border=\"1\" class=\"dataframe\">\n",
       "  <thead>\n",
       "    <tr style=\"text-align: right;\">\n",
       "      <th></th>\n",
       "      <th>Casino</th>\n",
       "      <th>Game</th>\n",
       "      <th>Count</th>\n",
       "    </tr>\n",
       "  </thead>\n",
       "  <tbody>\n",
       "    <tr>\n",
       "      <th>0</th>\n",
       "      <td>Bellagio</td>\n",
       "      <td>Blackjack</td>\n",
       "      <td>22</td>\n",
       "    </tr>\n",
       "    <tr>\n",
       "      <th>1</th>\n",
       "      <td>Bellagio</td>\n",
       "      <td>Poker</td>\n",
       "      <td>20</td>\n",
       "    </tr>\n",
       "    <tr>\n",
       "      <th>2</th>\n",
       "      <td>Bellagio</td>\n",
       "      <td>Roulette</td>\n",
       "      <td>38</td>\n",
       "    </tr>\n",
       "    <tr>\n",
       "      <th>3</th>\n",
       "      <td>Bellagio</td>\n",
       "      <td>Slots</td>\n",
       "      <td>66</td>\n",
       "    </tr>\n",
       "    <tr>\n",
       "      <th>4</th>\n",
       "      <td>Caesar's</td>\n",
       "      <td>Blackjack</td>\n",
       "      <td>30</td>\n",
       "    </tr>\n",
       "    <tr>\n",
       "      <th>5</th>\n",
       "      <td>Caesar's</td>\n",
       "      <td>Poker</td>\n",
       "      <td>38</td>\n",
       "    </tr>\n",
       "    <tr>\n",
       "      <th>6</th>\n",
       "      <td>Caesar's</td>\n",
       "      <td>Roulette</td>\n",
       "      <td>22</td>\n",
       "    </tr>\n",
       "    <tr>\n",
       "      <th>7</th>\n",
       "      <td>Caesar's</td>\n",
       "      <td>Slots</td>\n",
       "      <td>68</td>\n",
       "    </tr>\n",
       "    <tr>\n",
       "      <th>8</th>\n",
       "      <td>Golden Nugget</td>\n",
       "      <td>Blackjack</td>\n",
       "      <td>28</td>\n",
       "    </tr>\n",
       "    <tr>\n",
       "      <th>9</th>\n",
       "      <td>Golden Nugget</td>\n",
       "      <td>Poker</td>\n",
       "      <td>25</td>\n",
       "    </tr>\n",
       "    <tr>\n",
       "      <th>10</th>\n",
       "      <td>Golden Nugget</td>\n",
       "      <td>Roulette</td>\n",
       "      <td>21</td>\n",
       "    </tr>\n",
       "    <tr>\n",
       "      <th>11</th>\n",
       "      <td>Golden Nugget</td>\n",
       "      <td>Slots</td>\n",
       "      <td>81</td>\n",
       "    </tr>\n",
       "    <tr>\n",
       "      <th>12</th>\n",
       "      <td>Harrah's</td>\n",
       "      <td>Blackjack</td>\n",
       "      <td>38</td>\n",
       "    </tr>\n",
       "    <tr>\n",
       "      <th>13</th>\n",
       "      <td>Harrah's</td>\n",
       "      <td>Poker</td>\n",
       "      <td>25</td>\n",
       "    </tr>\n",
       "    <tr>\n",
       "      <th>14</th>\n",
       "      <td>Harrah's</td>\n",
       "      <td>Roulette</td>\n",
       "      <td>29</td>\n",
       "    </tr>\n",
       "    <tr>\n",
       "      <th>15</th>\n",
       "      <td>Harrah's</td>\n",
       "      <td>Slots</td>\n",
       "      <td>84</td>\n",
       "    </tr>\n",
       "  </tbody>\n",
       "</table>\n",
       "</div>"
      ],
      "text/plain": [
       "           Casino       Game  Count\n",
       "0        Bellagio  Blackjack     22\n",
       "1        Bellagio      Poker     20\n",
       "2        Bellagio   Roulette     38\n",
       "3        Bellagio      Slots     66\n",
       "4        Caesar's  Blackjack     30\n",
       "5        Caesar's      Poker     38\n",
       "6        Caesar's   Roulette     22\n",
       "7        Caesar's      Slots     68\n",
       "8   Golden Nugget  Blackjack     28\n",
       "9   Golden Nugget      Poker     25\n",
       "10  Golden Nugget   Roulette     21\n",
       "11  Golden Nugget      Slots     81\n",
       "12       Harrah's  Blackjack     38\n",
       "13       Harrah's      Poker     25\n",
       "14       Harrah's   Roulette     29\n",
       "15       Harrah's      Slots     84"
      ]
     },
     "execution_count": 94,
     "metadata": {},
     "output_type": "execute_result"
    }
   ],
   "source": [
    "data_42 = pd.read_excel(r\"D:\\stat\\Tex-_Datasets\\Chapter 13\\ex13-42casino.xls\")\n",
    "data_42"
   ]
  },
  {
   "cell_type": "code",
   "execution_count": 95,
   "metadata": {},
   "outputs": [
    {
     "data": {
      "text/plain": [
       "635"
      ]
     },
     "execution_count": 95,
     "metadata": {},
     "output_type": "execute_result"
    }
   ],
   "source": [
    "Casino = [\"Bellagio\", \"Caesar's\", \"Golden Nugget\", \"Harrah's\"]\n",
    "Game = [\"Blackjack\", \"Poker\", \"Roulette\", \"Slots\"]\n",
    "sample_size_42 = data_42[\"Count\"].sum()\n",
    "sample_size_42"
   ]
  },
  {
   "cell_type": "code",
   "execution_count": 96,
   "metadata": {},
   "outputs": [
    {
     "data": {
      "text/plain": [
       "18.63757818772916"
      ]
     },
     "execution_count": 96,
     "metadata": {},
     "output_type": "execute_result"
    }
   ],
   "source": [
    "x_squared_42 = 0\n",
    "for i in Casino:\n",
    "    for j in Game: \n",
    "        expected_42 = data_42[data_42[\"Game\"] == j][\"Count\"].sum() * data_42[data_42[\"Casino\"] == i][\"Count\"].sum() / sample_size_42\n",
    "        x_squared_42 += ((data_42[(data_42[\"Game\"] == j) & (data_42[\"Casino\"] == i)].Count.item() - expected_42)**2) / expected_42\n",
    "x_squared_42"
   ]
  },
  {
   "cell_type": "markdown",
   "metadata": {},
   "source": [
    "- H0: The true proportion of gamblers at each game is the same for all casinos.\n",
    "- Ha: The true proportion of gamblers at each game is not the same for all casinos.\n",
    "- alpha = 0.05 -> x^2(0.05, 9) = 16.919\n",
    "- We see that 18.638 > 16.919, therefore there is evidence to suggest that the true proportion of gamblers at each game is the same for all casinos."
   ]
  },
  {
   "cell_type": "markdown",
   "metadata": {},
   "source": [
    "13.46."
   ]
  },
  {
   "cell_type": "code",
   "execution_count": 97,
   "metadata": {},
   "outputs": [
    {
     "data": {
      "text/html": [
       "<div>\n",
       "<style scoped>\n",
       "    .dataframe tbody tr th:only-of-type {\n",
       "        vertical-align: middle;\n",
       "    }\n",
       "\n",
       "    .dataframe tbody tr th {\n",
       "        vertical-align: top;\n",
       "    }\n",
       "\n",
       "    .dataframe thead th {\n",
       "        text-align: right;\n",
       "    }\n",
       "</style>\n",
       "<table border=\"1\" class=\"dataframe\">\n",
       "  <thead>\n",
       "    <tr style=\"text-align: right;\">\n",
       "      <th></th>\n",
       "      <th>Girls or Boys</th>\n",
       "      <th>Times Helping with Homework per Week</th>\n",
       "      <th>Count</th>\n",
       "    </tr>\n",
       "  </thead>\n",
       "  <tbody>\n",
       "    <tr>\n",
       "      <th>0</th>\n",
       "      <td>Girls</td>\n",
       "      <td>Less than once</td>\n",
       "      <td>259</td>\n",
       "    </tr>\n",
       "    <tr>\n",
       "      <th>1</th>\n",
       "      <td>Girls</td>\n",
       "      <td>1 or 2 times</td>\n",
       "      <td>369</td>\n",
       "    </tr>\n",
       "    <tr>\n",
       "      <th>2</th>\n",
       "      <td>Girls</td>\n",
       "      <td>3 or 4 times</td>\n",
       "      <td>254</td>\n",
       "    </tr>\n",
       "    <tr>\n",
       "      <th>3</th>\n",
       "      <td>Girls</td>\n",
       "      <td>5 or more times</td>\n",
       "      <td>118</td>\n",
       "    </tr>\n",
       "    <tr>\n",
       "      <th>4</th>\n",
       "      <td>Boys</td>\n",
       "      <td>Less than once</td>\n",
       "      <td>274</td>\n",
       "    </tr>\n",
       "    <tr>\n",
       "      <th>5</th>\n",
       "      <td>Boys</td>\n",
       "      <td>1 or 2 times</td>\n",
       "      <td>335</td>\n",
       "    </tr>\n",
       "    <tr>\n",
       "      <th>6</th>\n",
       "      <td>Boys</td>\n",
       "      <td>3 or 4 times</td>\n",
       "      <td>262</td>\n",
       "    </tr>\n",
       "    <tr>\n",
       "      <th>7</th>\n",
       "      <td>Boys</td>\n",
       "      <td>5 or more times</td>\n",
       "      <td>129</td>\n",
       "    </tr>\n",
       "  </tbody>\n",
       "</table>\n",
       "</div>"
      ],
      "text/plain": [
       "  Girls or Boys Times Helping with Homework per Week  Count\n",
       "0         Girls                       Less than once    259\n",
       "1         Girls                         1 or 2 times    369\n",
       "2         Girls                         3 or 4 times    254\n",
       "3         Girls                      5 or more times    118\n",
       "4          Boys                       Less than once    274\n",
       "5          Boys                         1 or 2 times    335\n",
       "6          Boys                         3 or 4 times    262\n",
       "7          Boys                      5 or more times    129"
      ]
     },
     "execution_count": 97,
     "metadata": {},
     "output_type": "execute_result"
    }
   ],
   "source": [
    "data_46 = pd.read_excel(r\"D:\\stat\\Tex-_Datasets\\Chapter 13\\ex13-46homework.xls\")\n",
    "data_46"
   ]
  },
  {
   "cell_type": "code",
   "execution_count": 98,
   "metadata": {},
   "outputs": [
    {
     "data": {
      "text/plain": [
       "2000"
      ]
     },
     "execution_count": 98,
     "metadata": {},
     "output_type": "execute_result"
    }
   ],
   "source": [
    "Gender = [\"Girls\", \"Boys\"]\n",
    "Time = [\"Less than once\", \"1 or 2 times\", \"3 or 4 times\", \"5 or more times\"]\n",
    "sample_size_46 = data_46.Count.sum()\n",
    "sample_size_46"
   ]
  },
  {
   "cell_type": "code",
   "execution_count": 99,
   "metadata": {},
   "outputs": [
    {
     "data": {
      "text/plain": [
       "2.6780938415804973"
      ]
     },
     "execution_count": 99,
     "metadata": {},
     "output_type": "execute_result"
    }
   ],
   "source": [
    "x_squared_46 = 0\n",
    "for i in Gender:\n",
    "    for j in Time:\n",
    "        expected_46 = data_46[data_46[\"Girls or Boys\"] == i][\"Count\"].sum() * data_46[data_46[\"Times Helping with Homework per Week\"] == j][\"Count\"].sum() / sample_size_46\n",
    "        x_squared_46 += ((data_46[(data_46[\"Girls or Boys\"] == i) & (data_46[\"Times Helping with Homework per Week\"] == j)][\"Count\"].item() - expected_46)**2) / expected_46\n",
    "x_squared_46"
   ]
  },
  {
   "cell_type": "markdown",
   "metadata": {},
   "source": [
    "- H0: The number of times spent helping with homework is the same for boys and girls.\n",
    "- Ha: The number of times spent helping with homework is different for boys and girls.\n",
    "- alpha = 0.01 -> x^2(0.01, 3) = 11.345\n",
    "- We see that 2.678 < 11.345, therefore there is no evidence that the number of times spent helping with homework is different for boys and girls.\n",
    "- Using the chi-squared table, the bounds on the p-value associated with this test are (0.1, 0.9)"
   ]
  },
  {
   "cell_type": "markdown",
   "metadata": {},
   "source": [
    "13.48."
   ]
  },
  {
   "cell_type": "code",
   "execution_count": 100,
   "metadata": {},
   "outputs": [
    {
     "data": {
      "text/html": [
       "<div>\n",
       "<style scoped>\n",
       "    .dataframe tbody tr th:only-of-type {\n",
       "        vertical-align: middle;\n",
       "    }\n",
       "\n",
       "    .dataframe tbody tr th {\n",
       "        vertical-align: top;\n",
       "    }\n",
       "\n",
       "    .dataframe thead th {\n",
       "        text-align: right;\n",
       "    }\n",
       "</style>\n",
       "<table border=\"1\" class=\"dataframe\">\n",
       "  <thead>\n",
       "    <tr style=\"text-align: right;\">\n",
       "      <th></th>\n",
       "      <th>Age Group</th>\n",
       "      <th>Resort Activity</th>\n",
       "      <th>Count</th>\n",
       "    </tr>\n",
       "  </thead>\n",
       "  <tbody>\n",
       "    <tr>\n",
       "      <th>0</th>\n",
       "      <td>Younger than 16</td>\n",
       "      <td>Downhill skiing</td>\n",
       "      <td>24</td>\n",
       "    </tr>\n",
       "    <tr>\n",
       "      <th>1</th>\n",
       "      <td>Younger than 16</td>\n",
       "      <td>Cross-country skiing</td>\n",
       "      <td>35</td>\n",
       "    </tr>\n",
       "    <tr>\n",
       "      <th>2</th>\n",
       "      <td>Younger than 16</td>\n",
       "      <td>Snowboarding</td>\n",
       "      <td>23</td>\n",
       "    </tr>\n",
       "    <tr>\n",
       "      <th>3</th>\n",
       "      <td>Younger than 16</td>\n",
       "      <td>Snow tubing</td>\n",
       "      <td>48</td>\n",
       "    </tr>\n",
       "    <tr>\n",
       "      <th>4</th>\n",
       "      <td>16-20</td>\n",
       "      <td>Downhill skiing</td>\n",
       "      <td>50</td>\n",
       "    </tr>\n",
       "    <tr>\n",
       "      <th>5</th>\n",
       "      <td>16-20</td>\n",
       "      <td>Cross-country skiing</td>\n",
       "      <td>25</td>\n",
       "    </tr>\n",
       "    <tr>\n",
       "      <th>6</th>\n",
       "      <td>16-20</td>\n",
       "      <td>Snowboarding</td>\n",
       "      <td>40</td>\n",
       "    </tr>\n",
       "    <tr>\n",
       "      <th>7</th>\n",
       "      <td>16-20</td>\n",
       "      <td>Snow tubing</td>\n",
       "      <td>32</td>\n",
       "    </tr>\n",
       "    <tr>\n",
       "      <th>8</th>\n",
       "      <td>20-30</td>\n",
       "      <td>Downhill skiing</td>\n",
       "      <td>21</td>\n",
       "    </tr>\n",
       "    <tr>\n",
       "      <th>9</th>\n",
       "      <td>20-30</td>\n",
       "      <td>Cross-country skiing</td>\n",
       "      <td>27</td>\n",
       "    </tr>\n",
       "    <tr>\n",
       "      <th>10</th>\n",
       "      <td>20-30</td>\n",
       "      <td>Snowboarding</td>\n",
       "      <td>27</td>\n",
       "    </tr>\n",
       "    <tr>\n",
       "      <th>11</th>\n",
       "      <td>20-30</td>\n",
       "      <td>Snow tubing</td>\n",
       "      <td>32</td>\n",
       "    </tr>\n",
       "    <tr>\n",
       "      <th>12</th>\n",
       "      <td>30-40</td>\n",
       "      <td>Downhill skiing</td>\n",
       "      <td>29</td>\n",
       "    </tr>\n",
       "    <tr>\n",
       "      <th>13</th>\n",
       "      <td>30-40</td>\n",
       "      <td>Cross-country skiing</td>\n",
       "      <td>39</td>\n",
       "    </tr>\n",
       "    <tr>\n",
       "      <th>14</th>\n",
       "      <td>30-40</td>\n",
       "      <td>Snowboarding</td>\n",
       "      <td>29</td>\n",
       "    </tr>\n",
       "    <tr>\n",
       "      <th>15</th>\n",
       "      <td>30-40</td>\n",
       "      <td>Snow tubing</td>\n",
       "      <td>29</td>\n",
       "    </tr>\n",
       "    <tr>\n",
       "      <th>16</th>\n",
       "      <td>Greater than or equal to 40</td>\n",
       "      <td>Downhill skiing</td>\n",
       "      <td>26</td>\n",
       "    </tr>\n",
       "    <tr>\n",
       "      <th>17</th>\n",
       "      <td>Greater than or equal to 40</td>\n",
       "      <td>Cross-country skiing</td>\n",
       "      <td>37</td>\n",
       "    </tr>\n",
       "    <tr>\n",
       "      <th>18</th>\n",
       "      <td>Greater than or equal to 40</td>\n",
       "      <td>Snowboarding</td>\n",
       "      <td>35</td>\n",
       "    </tr>\n",
       "    <tr>\n",
       "      <th>19</th>\n",
       "      <td>Greater than or equal to 40</td>\n",
       "      <td>Snow tubing</td>\n",
       "      <td>30</td>\n",
       "    </tr>\n",
       "  </tbody>\n",
       "</table>\n",
       "</div>"
      ],
      "text/plain": [
       "                      Age Group       Resort Activity  Count\n",
       "0               Younger than 16       Downhill skiing     24\n",
       "1               Younger than 16  Cross-country skiing     35\n",
       "2               Younger than 16          Snowboarding     23\n",
       "3               Younger than 16           Snow tubing     48\n",
       "4                         16-20       Downhill skiing     50\n",
       "5                         16-20  Cross-country skiing     25\n",
       "6                         16-20          Snowboarding     40\n",
       "7                         16-20           Snow tubing     32\n",
       "8                         20-30       Downhill skiing     21\n",
       "9                         20-30  Cross-country skiing     27\n",
       "10                        20-30          Snowboarding     27\n",
       "11                        20-30           Snow tubing     32\n",
       "12                        30-40       Downhill skiing     29\n",
       "13                        30-40  Cross-country skiing     39\n",
       "14                        30-40          Snowboarding     29\n",
       "15                        30-40           Snow tubing     29\n",
       "16  Greater than or equal to 40       Downhill skiing     26\n",
       "17  Greater than or equal to 40  Cross-country skiing     37\n",
       "18  Greater than or equal to 40          Snowboarding     35\n",
       "19  Greater than or equal to 40           Snow tubing     30"
      ]
     },
     "execution_count": 100,
     "metadata": {},
     "output_type": "execute_result"
    }
   ],
   "source": [
    "data_48 = pd.read_excel(r\"D:\\stat\\Tex-_Datasets\\Chapter 13\\ex13-48resort.xls\")\n",
    "data_48"
   ]
  },
  {
   "cell_type": "code",
   "execution_count": 121,
   "metadata": {},
   "outputs": [
    {
     "data": {
      "text/plain": [
       "638"
      ]
     },
     "execution_count": 121,
     "metadata": {},
     "output_type": "execute_result"
    }
   ],
   "source": [
    "Age = ['Younger than 16', '16-20', '20-30', '30-40', 'Greater than or equal to 40']\n",
    "Activity = [\"Downhill skiing\", \"Cross-country skiing\", \"Snowboarding\", \"Snow tubing\"]\n",
    "sample_size_48 = data_48.Count.sum()\n",
    "sample_size_48"
   ]
  },
  {
   "cell_type": "code",
   "execution_count": 122,
   "metadata": {},
   "outputs": [
    {
     "data": {
      "text/plain": [
       "27.30048869755236"
      ]
     },
     "execution_count": 122,
     "metadata": {},
     "output_type": "execute_result"
    }
   ],
   "source": [
    "x_squared_48 = 0\n",
    "for i in Age:\n",
    "    for j in Activity:\n",
    "        expected_48 = data_48[data_48[\"Age Group\"] == i][\"Count\"].sum() * data_48[data_48[\"Resort Activity\"] == j][\"Count\"].sum() / sample_size_48\n",
    "        x_squared_48 += ((data_48[(data_48[\"Age Group\"] == i) & (data_48[\"Resort Activity\"] == j)][\"Count\"].item() - expected_48)**2) / expected_48\n",
    "x_squared_48"
   ]
  },
  {
   "cell_type": "markdown",
   "metadata": {},
   "source": [
    "- H0: Resort activity is independent on age group.\n",
    "- Ha: Resort activity is independent on age group.\n",
    "- alpha = 0.01 -> x^2(0.01, 12) = 26.217\n",
    "- We see that 27.3 > 26.217, therefore there is evidence to suggest that resort activity is dependent on age group."
   ]
  }
 ],
 "metadata": {
  "kernelspec": {
   "display_name": "Python 3",
   "language": "python",
   "name": "python3"
  },
  "language_info": {
   "codemirror_mode": {
    "name": "ipython",
    "version": 3
   },
   "file_extension": ".py",
   "mimetype": "text/x-python",
   "name": "python",
   "nbconvert_exporter": "python",
   "pygments_lexer": "ipython3",
   "version": "3.11.1"
  }
 },
 "nbformat": 4,
 "nbformat_minor": 2
}
