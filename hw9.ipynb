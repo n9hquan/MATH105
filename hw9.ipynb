{
 "cells": [
  {
   "cell_type": "markdown",
   "metadata": {},
   "source": [
    "Homework 9 - Chapter 10 - Nguyen Chinh Quan - 220066"
   ]
  },
  {
   "cell_type": "code",
   "execution_count": 16,
   "metadata": {},
   "outputs": [],
   "source": [
    "import pandas as pd\n",
    "import math\n",
    "import numpy as np"
   ]
  },
  {
   "cell_type": "markdown",
   "metadata": {},
   "source": [
    "10.14."
   ]
  },
  {
   "cell_type": "markdown",
   "metadata": {},
   "source": [
    "a. mean1: population mean rotation speed of Sonicare Elite, mean2: population mean rotation speed of Oral-B"
   ]
  },
  {
   "cell_type": "markdown",
   "metadata": {},
   "source": [
    "H0: mean1 - mean2 = delta0, Ha: mean1 - mean2 > 0"
   ]
  },
  {
   "cell_type": "markdown",
   "metadata": {},
   "source": [
    "alpha = 0.05 -> z0.05 = 1.64"
   ]
  },
  {
   "cell_type": "code",
   "execution_count": 17,
   "metadata": {},
   "outputs": [
    {
     "name": "stdout",
     "output_type": "stream",
     "text": [
      "0.3611216280775699\n"
     ]
    }
   ],
   "source": [
    "n1_14 = 23\n",
    "n2_14 = 25\n",
    "sam_mean1_14 = 7992.2\n",
    "sam_mean2_14 = 7988.2\n",
    "pop_var1_14 = 1260.25\n",
    "pop_var2_14 = 1697.44\n",
    "z_14 = ((sam_mean1_14 - sam_mean2_14) - 0)/math.sqrt(pop_var1_14/n1_14 + pop_var2_14/n2_14)\n",
    "print(z_14)\n"
   ]
  },
  {
   "cell_type": "markdown",
   "metadata": {},
   "source": [
    "0.36 < 1.64, therefore there is no evidence to suggest that the Sonicare Elite has a greater population mean rotation speed than the Oral-B."
   ]
  },
  {
   "cell_type": "markdown",
   "metadata": {},
   "source": [
    "b."
   ]
  },
  {
   "cell_type": "markdown",
   "metadata": {},
   "source": [
    "Using online calcultor, the p-value is 0.359424."
   ]
  },
  {
   "cell_type": "markdown",
   "metadata": {},
   "source": [
    "10.18."
   ]
  },
  {
   "cell_type": "code",
   "execution_count": 18,
   "metadata": {},
   "outputs": [
    {
     "name": "stdout",
     "output_type": "stream",
     "text": [
      "20.322222222222223 14.777777777777779 27 27\n"
     ]
    }
   ],
   "source": [
    "data_18 = pd.read_excel(r\"D:\\stat\\Tex-_Datasets\\Chapter 10\\ex10-18taxiride.xls\")\n",
    "print(data_18[\"San Diego (min)\"].mean(), data_18[\"Phoenix (min)\"].mean(), len(data_18[\"San Diego (min)\"]), len(data_18[\"Phoenix (min)\"]))"
   ]
  },
  {
   "cell_type": "markdown",
   "metadata": {},
   "source": [
    "alpha = 0.01 -> alpha/2 = 0.005 -> z_0.005 = -2.3263"
   ]
  },
  {
   "cell_type": "markdown",
   "metadata": {},
   "source": [
    "mean1: mean taxi ride time in San Diego, mean2: mean taxi ride time in Phoenix"
   ]
  },
  {
   "cell_type": "markdown",
   "metadata": {},
   "source": [
    "H0: mean1 - mean2 = 0, Ha: mean1 - mean2 != 0"
   ]
  },
  {
   "cell_type": "code",
   "execution_count": 19,
   "metadata": {},
   "outputs": [
    {
     "name": "stdout",
     "output_type": "stream",
     "text": [
      "3.616415735257241\n"
     ]
    }
   ],
   "source": [
    "sam_std1_18 = 6.2\n",
    "sam_std2_18 = 4.9\n",
    "sam_mean1_18 = 20.3\n",
    "sam_mean2_18 = 14.8\n",
    "z_18 = ((sam_mean1_18 - sam_mean2_18) - 0) / math.sqrt(sam_std1_18**2/27 + sam_std2_18**2/27)\n",
    "print(z_18)"
   ]
  },
  {
   "cell_type": "markdown",
   "metadata": {},
   "source": [
    "3.62 > -(-2.3263), therefore there is evidence to suggest that the mean taxi ride time is different in San Diego and Phoenix."
   ]
  },
  {
   "cell_type": "markdown",
   "metadata": {},
   "source": [
    "10.45."
   ]
  },
  {
   "cell_type": "markdown",
   "metadata": {},
   "source": [
    "a."
   ]
  },
  {
   "cell_type": "markdown",
   "metadata": {},
   "source": [
    "mean1: population mean deviations from perfect flatness for Tire Rack, mean2: population mean deviations from perfect flatness for JC Whitney"
   ]
  },
  {
   "cell_type": "markdown",
   "metadata": {},
   "source": [
    "H0: mean1 - mean2 = 0, Ha: mean1 - mean2 != 0"
   ]
  },
  {
   "cell_type": "markdown",
   "metadata": {},
   "source": [
    "alpha = 0.05 -> alpha/2 = 0.025, n1+n2-2 = 23 -> t_alpha/2,23 = 2.069"
   ]
  },
  {
   "cell_type": "code",
   "execution_count": 20,
   "metadata": {},
   "outputs": [
    {
     "name": "stdout",
     "output_type": "stream",
     "text": [
      "-0.9208616064461812\n"
     ]
    }
   ],
   "source": [
    "n1_45 = 11\n",
    "n2_45 = 14\n",
    "sam_mean1_45 = 26.74\n",
    "sam_mean2_45 = 29.53\n",
    "sam_std1_45 = 8.31\n",
    "sam_std2_45 = 6.85\n",
    "s_squared_p_45 = ((n1_45 - 1)*sam_std1_45**2+(n2_45 - 1)*sam_std2_45**2)/23 \n",
    "t_45 = ((sam_mean1_45 - sam_mean2_45) - 0)/math.sqrt(s_squared_p_45 * (1/n1_45 + 1/n2_45))\n",
    "print(t_45)"
   ]
  },
  {
   "cell_type": "markdown",
   "metadata": {},
   "source": [
    "|-0.92| = 0.92 < 2.069, therefore there is no evidence to suggest a difference in population mean deviations from perfect flatness for these two rotor brands "
   ]
  },
  {
   "cell_type": "markdown",
   "metadata": {},
   "source": [
    "b. Using t-table for df=23, we can see that the bounds for p-value are 0.2 and 0.4 (0.2 <= p <= 0.4). "
   ]
  },
  {
   "cell_type": "markdown",
   "metadata": {},
   "source": [
    "10.49."
   ]
  },
  {
   "cell_type": "markdown",
   "metadata": {},
   "source": [
    "a."
   ]
  },
  {
   "cell_type": "markdown",
   "metadata": {},
   "source": [
    "mean1: population mean sagittal diameter of women's biceps tendons, mean2: population mean sagittal diameter of men's biceps tendons"
   ]
  },
  {
   "cell_type": "markdown",
   "metadata": {},
   "source": [
    "H0: mean1 - mean2 = 0, Ha: mean1 - mean2 != 0"
   ]
  },
  {
   "cell_type": "markdown",
   "metadata": {},
   "source": [
    "alpha = 0.01 -> alpha/2 = 0.005, n1+n2-2 = 100 -> t_0.005,100 = 2.626"
   ]
  },
  {
   "cell_type": "code",
   "execution_count": 21,
   "metadata": {},
   "outputs": [
    {
     "name": "stdout",
     "output_type": "stream",
     "text": [
      "-3.0863316137760197\n"
     ]
    }
   ],
   "source": [
    "n1_49 = 54\n",
    "n2_49 = 48\n",
    "sam_mean1_49 = 2.5\n",
    "sam_mean2_49 = 2.8\n",
    "sam_std1_49 = 0.49\n",
    "sam_std2_49 = 0.49\n",
    "s_squared_p_49 = ((n1_49 - 1)*sam_std1_49**2+(n2_49 - 1)*sam_std2_49**2)/100 \n",
    "t_49 = ((sam_mean1_49 - sam_mean2_49) - 0)/math.sqrt(s_squared_p_49 * (1/n1_49 + 1/n2_49))\n",
    "print(t_49)"
   ]
  },
  {
   "cell_type": "markdown",
   "metadata": {},
   "source": [
    "|-3.09| = 3.09 > 2.626, therefore there is evidence to suggest that the population mean sagittal diameter of women’s biceps tendons is different\n",
    "from that of men’s biceps tendons."
   ]
  },
  {
   "cell_type": "markdown",
   "metadata": {},
   "source": [
    "b."
   ]
  },
  {
   "cell_type": "markdown",
   "metadata": {},
   "source": [
    "alpha = 0.05 -> alpha/2 = 0.025 -> t_0.025,100 = 1.984"
   ]
  },
  {
   "cell_type": "code",
   "execution_count": 22,
   "metadata": {},
   "outputs": [
    {
     "name": "stdout",
     "output_type": "stream",
     "text": [
      "-0.4928503072525614 -0.10714969274743824\n"
     ]
    }
   ],
   "source": [
    "lower_49 = (sam_mean1_49 - sam_mean2_49) - 1.984 * math.sqrt(sam_std1_49**2/n1_49 + sam_std2_49**2/n2_49)\n",
    "upper_49 = (sam_mean1_49 - sam_mean2_49) + 1.984 * math.sqrt(sam_std1_49**2/n1_49 + sam_std2_49**2/n2_49)\n",
    "print(lower_49, upper_49)"
   ]
  },
  {
   "cell_type": "markdown",
   "metadata": {},
   "source": [
    "95% confidence interval for the difference in population mean sagittal diameters is (-0.493, -0.107)."
   ]
  },
  {
   "cell_type": "markdown",
   "metadata": {},
   "source": [
    "10.79."
   ]
  },
  {
   "cell_type": "code",
   "execution_count": 23,
   "metadata": {},
   "outputs": [
    {
     "data": {
      "text/html": [
       "<div>\n",
       "<style scoped>\n",
       "    .dataframe tbody tr th:only-of-type {\n",
       "        vertical-align: middle;\n",
       "    }\n",
       "\n",
       "    .dataframe tbody tr th {\n",
       "        vertical-align: top;\n",
       "    }\n",
       "\n",
       "    .dataframe thead th {\n",
       "        text-align: right;\n",
       "    }\n",
       "</style>\n",
       "<table border=\"1\" class=\"dataframe\">\n",
       "  <thead>\n",
       "    <tr style=\"text-align: right;\">\n",
       "      <th></th>\n",
       "      <th>Velocity Before (ft/s)</th>\n",
       "      <th>Velocity After (ft/s)</th>\n",
       "    </tr>\n",
       "  </thead>\n",
       "  <tbody>\n",
       "    <tr>\n",
       "      <th>0</th>\n",
       "      <td>1505</td>\n",
       "      <td>1625</td>\n",
       "    </tr>\n",
       "    <tr>\n",
       "      <th>1</th>\n",
       "      <td>1419</td>\n",
       "      <td>1511</td>\n",
       "    </tr>\n",
       "    <tr>\n",
       "      <th>2</th>\n",
       "      <td>1504</td>\n",
       "      <td>1459</td>\n",
       "    </tr>\n",
       "    <tr>\n",
       "      <th>3</th>\n",
       "      <td>1494</td>\n",
       "      <td>1441</td>\n",
       "    </tr>\n",
       "    <tr>\n",
       "      <th>4</th>\n",
       "      <td>1510</td>\n",
       "      <td>1472</td>\n",
       "    </tr>\n",
       "    <tr>\n",
       "      <th>5</th>\n",
       "      <td>1506</td>\n",
       "      <td>1521</td>\n",
       "    </tr>\n",
       "  </tbody>\n",
       "</table>\n",
       "</div>"
      ],
      "text/plain": [
       "   Velocity Before (ft/s)  Velocity After (ft/s)\n",
       "0                    1505                   1625\n",
       "1                    1419                   1511\n",
       "2                    1504                   1459\n",
       "3                    1494                   1441\n",
       "4                    1510                   1472\n",
       "5                    1506                   1521"
      ]
     },
     "execution_count": 23,
     "metadata": {},
     "output_type": "execute_result"
    }
   ],
   "source": [
    "data_79 = pd.read_excel(r\"D:\\stat\\Tex-_Datasets\\Chapter 10\\ex10-79glock.xls\")\n",
    "data_79"
   ]
  },
  {
   "cell_type": "markdown",
   "metadata": {},
   "source": [
    "a. Same handguns are used."
   ]
  },
  {
   "cell_type": "markdown",
   "metadata": {},
   "source": [
    "b."
   ]
  },
  {
   "cell_type": "markdown",
   "metadata": {},
   "source": [
    "H0: uD = 0, Ha: uD < 0"
   ]
  },
  {
   "cell_type": "markdown",
   "metadata": {},
   "source": [
    "alpha = 0.01, n=6 -> t_0.01,5 = 3.365"
   ]
  },
  {
   "cell_type": "code",
   "execution_count": 24,
   "metadata": {},
   "outputs": [
    {
     "name": "stdout",
     "output_type": "stream",
     "text": [
      "-0.496562465309264\n"
     ]
    }
   ],
   "source": [
    "d_79 = (np.array(data_79[\"Velocity Before (ft/s)\"]) - np.array(data_79[\"Velocity After (ft/s)\"])).sum()/6\n",
    "sd_79 = math.sqrt(((np.array(data_79[\"Velocity Before (ft/s)\"]) - np.array(data_79[\"Velocity After (ft/s)\"]) - d_79)**2).sum()/5)\n",
    "t_79 = (d_79 - 0) / (sd_79 / math.sqrt(6))\n",
    "print(t_79)"
   ]
  },
  {
   "cell_type": "markdown",
   "metadata": {},
   "source": [
    "-0.497 > -3.365, therefore there is no evidence to suggest that the population mean muzzle velocity of a clean gun is greater than the population mean muzzle velocity of a dirty gun."
   ]
  },
  {
   "cell_type": "markdown",
   "metadata": {},
   "source": [
    "c. Using the t-table for df = 5, we can see that the bound for p-value are 0.25 and 0.5."
   ]
  },
  {
   "cell_type": "markdown",
   "metadata": {},
   "source": [
    "10.82."
   ]
  },
  {
   "cell_type": "code",
   "execution_count": 25,
   "metadata": {},
   "outputs": [],
   "source": [
    "d_82 = 1.4923\n",
    "sd_82 = 2.8097\n",
    "n_82 = 26"
   ]
  },
  {
   "cell_type": "markdown",
   "metadata": {},
   "source": [
    "a. alpha = 0.05 -> t_0.05,25 = 1.708"
   ]
  },
  {
   "cell_type": "markdown",
   "metadata": {},
   "source": [
    "H0: uD = 0, Ha: uD > 0"
   ]
  },
  {
   "cell_type": "code",
   "execution_count": 26,
   "metadata": {},
   "outputs": [
    {
     "name": "stdout",
     "output_type": "stream",
     "text": [
      "2.7082132683683358\n"
     ]
    }
   ],
   "source": [
    "t_82 = (d_82 - 0) / (sd_82 / math.sqrt(26))\n",
    "print(t_82)"
   ]
  },
  {
   "cell_type": "markdown",
   "metadata": {},
   "source": [
    "2.71 > 1.708, therefore there is evidence to suggest that the ECMWF model predicts higher storm surges."
   ]
  },
  {
   "cell_type": "markdown",
   "metadata": {},
   "source": [
    "b. Using t-table for df = 25, we can see the that the bounds for p-value are 0.005 and 0.01 (0.005 <= p <= 0.01)."
   ]
  },
  {
   "cell_type": "markdown",
   "metadata": {},
   "source": [
    "10.111."
   ]
  },
  {
   "cell_type": "markdown",
   "metadata": {},
   "source": [
    "a."
   ]
  },
  {
   "cell_type": "code",
   "execution_count": 27,
   "metadata": {},
   "outputs": [
    {
     "name": "stdout",
     "output_type": "stream",
     "text": [
      "530.0 525.0 825.0 838.0\n"
     ]
    }
   ],
   "source": [
    "sam_n1_111 = 1055\n",
    "sam_n2_111 = 1663\n",
    "x1_111 = 530\n",
    "x2_111 = 825\n",
    "p1_111 = x1_111/sam_n1_111\n",
    "p2_111 = x2_111/sam_n2_111\n",
    "print(sam_n1_111*p1_111, sam_n1_111*(1-p1_111), sam_n2_111*p2_111, sam_n2_111*(1-p2_111))"
   ]
  },
  {
   "cell_type": "markdown",
   "metadata": {},
   "source": [
    "n1p1 >= 5, n1(1-p1) >= 5, n2p2 >= 5, n2(1-p2) >=5, therefore the distribution of P1 - P2 is approximately normal."
   ]
  },
  {
   "cell_type": "markdown",
   "metadata": {},
   "source": [
    "b."
   ]
  },
  {
   "cell_type": "markdown",
   "metadata": {},
   "source": [
    "p1: proportion of carpoolers crossing the George Washington Bridge, p2: proportion of carpoolers using the Lincoln Tunnel"
   ]
  },
  {
   "cell_type": "markdown",
   "metadata": {},
   "source": [
    "H0: p1 - p2 = 0, Ha: p1 - p2 > 0"
   ]
  },
  {
   "cell_type": "markdown",
   "metadata": {},
   "source": [
    "alpha = 0.01, z_0.01 = 2.2363"
   ]
  },
  {
   "cell_type": "code",
   "execution_count": 28,
   "metadata": {},
   "outputs": [
    {
     "name": "stdout",
     "output_type": "stream",
     "text": [
      "0.3190210188791217\n"
     ]
    }
   ],
   "source": [
    "pc_111 = (sam_n1_111/(sam_n1_111+sam_n2_111)*p1_111) + (sam_n2_111/(sam_n1_111+sam_n2_111)*p2_111)\n",
    "z_111 = (p1_111 - p2_111)/math.sqrt(pc_111*(1-pc_111)*(1/sam_n1_111 + 1/sam_n2_111))\n",
    "print(z_111)"
   ]
  },
  {
   "cell_type": "markdown",
   "metadata": {},
   "source": [
    "0.319 < 2.2363, therefore there is no evidence suggest that the proportion of carpoolers crossing the George Washington Bridge is greater than the proportion of carpoolers using the Lincoln Tunnel."
   ]
  },
  {
   "cell_type": "markdown",
   "metadata": {},
   "source": [
    "c. Using online p-value calculator using z = 0.319, we have p-value = 0.3749"
   ]
  },
  {
   "cell_type": "markdown",
   "metadata": {},
   "source": [
    "10.139."
   ]
  },
  {
   "cell_type": "markdown",
   "metadata": {},
   "source": [
    "H0: var1 = var2, Ha: var1 != var2"
   ]
  },
  {
   "cell_type": "markdown",
   "metadata": {},
   "source": [
    "alpha = 0.05 -> alpha/2 = 0.025"
   ]
  },
  {
   "cell_type": "markdown",
   "metadata": {},
   "source": [
    "F_0.025,24,20 = 2.40756 & F_0.975,24,20 = 0.42969"
   ]
  },
  {
   "cell_type": "code",
   "execution_count": 29,
   "metadata": {},
   "outputs": [
    {
     "name": "stdout",
     "output_type": "stream",
     "text": [
      "0.49597979589733016\n"
     ]
    }
   ],
   "source": [
    "n1_139 = 25\n",
    "sam_var1_139 = 96.23\n",
    "n2_139 = 21\n",
    "sam_var2_139 = 194.02\n",
    "F_139 = sam_var1_139/sam_var2_139\n",
    "print(F_139)"
   ]
  },
  {
   "cell_type": "markdown",
   "metadata": {},
   "source": [
    "0.42969 < 0.49598 < 2.40756, therefore there is no evidence to suggest that the variability in checked baggage weight is different for these two airlines."
   ]
  }
 ],
 "metadata": {
  "kernelspec": {
   "display_name": "Python 3",
   "language": "python",
   "name": "python3"
  },
  "language_info": {
   "codemirror_mode": {
    "name": "ipython",
    "version": 3
   },
   "file_extension": ".py",
   "mimetype": "text/x-python",
   "name": "python",
   "nbconvert_exporter": "python",
   "pygments_lexer": "ipython3",
   "version": "3.11.1"
  }
 },
 "nbformat": 4,
 "nbformat_minor": 2
}
