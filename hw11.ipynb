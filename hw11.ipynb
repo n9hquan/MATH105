{
 "cells": [
  {
   "cell_type": "markdown",
   "metadata": {},
   "source": [
    "Homework 11 - Chapter 11 - Nguyen Chinh Quan - 220066"
   ]
  },
  {
   "cell_type": "code",
   "execution_count": 15,
   "metadata": {},
   "outputs": [],
   "source": [
    "import pandas as pd\n",
    "import math"
   ]
  },
  {
   "cell_type": "markdown",
   "metadata": {},
   "source": [
    "11.14."
   ]
  },
  {
   "cell_type": "markdown",
   "metadata": {},
   "source": [
    "Table: \n",
    "- k - 1 = 3\n",
    "- SSA = 4.522 * (k-1) = 4.522 * 3 = 13.566\n",
    "- SSE = 62 * 0.988 = 61.256\n",
    "- SST = 13.566 + 61.256 = 74.822\n",
    "- F = MSA / MSE = = 4.522 / 0.988 = 4.577\n",
    "- p  value = 0.00585 (using online calculator)"
   ]
  },
  {
   "cell_type": "markdown",
   "metadata": {},
   "source": [
    "a. \n",
    "- H0: mean1 = mean2 = mean3 = mean4 (all population means are equal)\n",
    "- Ha: meani != meanj for some i != j"
   ]
  },
  {
   "cell_type": "markdown",
   "metadata": {},
   "source": [
    "b."
   ]
  },
  {
   "cell_type": "markdown",
   "metadata": {},
   "source": [
    "- F(0.01,3,62) = 4.11419\n",
    "- Rejection region for a = 0.01: F >= 4.11419"
   ]
  },
  {
   "cell_type": "markdown",
   "metadata": {},
   "source": [
    "c."
   ]
  },
  {
   "cell_type": "markdown",
   "metadata": {},
   "source": [
    "4.577 > 4.11419, therefore, there is evidence to suggest that at least two population means are different."
   ]
  },
  {
   "cell_type": "markdown",
   "metadata": {},
   "source": [
    "11.15."
   ]
  },
  {
   "cell_type": "code",
   "execution_count": 16,
   "metadata": {},
   "outputs": [
    {
     "data": {
      "text/html": [
       "<div>\n",
       "<style scoped>\n",
       "    .dataframe tbody tr th:only-of-type {\n",
       "        vertical-align: middle;\n",
       "    }\n",
       "\n",
       "    .dataframe tbody tr th {\n",
       "        vertical-align: top;\n",
       "    }\n",
       "\n",
       "    .dataframe thead th {\n",
       "        text-align: right;\n",
       "    }\n",
       "</style>\n",
       "<table border=\"1\" class=\"dataframe\">\n",
       "  <thead>\n",
       "    <tr style=\"text-align: right;\">\n",
       "      <th></th>\n",
       "      <th>BBQ</th>\n",
       "      <th>Cheese</th>\n",
       "      <th>Olestra</th>\n",
       "      <th>Baked</th>\n",
       "    </tr>\n",
       "  </thead>\n",
       "  <tbody>\n",
       "    <tr>\n",
       "      <th>0</th>\n",
       "      <td>338</td>\n",
       "      <td>235</td>\n",
       "      <td>164</td>\n",
       "      <td>290</td>\n",
       "    </tr>\n",
       "    <tr>\n",
       "      <th>1</th>\n",
       "      <td>155</td>\n",
       "      <td>238</td>\n",
       "      <td>197</td>\n",
       "      <td>343</td>\n",
       "    </tr>\n",
       "    <tr>\n",
       "      <th>2</th>\n",
       "      <td>239</td>\n",
       "      <td>251</td>\n",
       "      <td>136</td>\n",
       "      <td>294</td>\n",
       "    </tr>\n",
       "    <tr>\n",
       "      <th>3</th>\n",
       "      <td>184</td>\n",
       "      <td>229</td>\n",
       "      <td>214</td>\n",
       "      <td>373</td>\n",
       "    </tr>\n",
       "    <tr>\n",
       "      <th>4</th>\n",
       "      <td>185</td>\n",
       "      <td>233</td>\n",
       "      <td>148</td>\n",
       "      <td>306</td>\n",
       "    </tr>\n",
       "    <tr>\n",
       "      <th>5</th>\n",
       "      <td>261</td>\n",
       "      <td>232</td>\n",
       "      <td>230</td>\n",
       "      <td>357</td>\n",
       "    </tr>\n",
       "  </tbody>\n",
       "</table>\n",
       "</div>"
      ],
      "text/plain": [
       "   BBQ  Cheese  Olestra  Baked\n",
       "0  338     235      164    290\n",
       "1  155     238      197    343\n",
       "2  239     251      136    294\n",
       "3  184     229      214    373\n",
       "4  185     233      148    306\n",
       "5  261     232      230    357"
      ]
     },
     "execution_count": 16,
     "metadata": {},
     "output_type": "execute_result"
    }
   ],
   "source": [
    "data_15 = pd.read_excel(r\"D:\\stat\\Tex-_Datasets\\Chapter 11\\ex11-15chips.xls\")\n",
    "data_15"
   ]
  },
  {
   "cell_type": "markdown",
   "metadata": {},
   "source": [
    "n = 24, k = 4"
   ]
  },
  {
   "cell_type": "markdown",
   "metadata": {},
   "source": [
    "a.\n",
    "- H0: meanBBQ = meanCheese = meanOlestra = meanBaked\n",
    "- Ha: meani != meanj for some i != j"
   ]
  },
  {
   "cell_type": "markdown",
   "metadata": {},
   "source": [
    "b.\n"
   ]
  },
  {
   "cell_type": "code",
   "execution_count": 17,
   "metadata": {},
   "outputs": [
    {
     "name": "stdout",
     "output_type": "stream",
     "text": [
      "103040.0 67000.33333333349 36039.66666666651 22333.444444444496 1801.9833333333256 12.393812990008005\n"
     ]
    }
   ],
   "source": [
    "sum_15 = data_15.sum().sum()\n",
    "SST_15 = (data_15**2).sum().sum() - (sum_15**2) / 24 \n",
    "SSA_15 = ((((data_15.sum())**2)/6).sum()) - (sum_15**2) / 24 \n",
    "SSE_15 = SST_15 - SSA_15\n",
    "MSA_15 = SSA_15 / (4-1)\n",
    "MSE_15 = SSE_15 / (24 - 4)\n",
    "F_15 = MSA_15 / MSE_15\n",
    "print(SST_15, SSA_15, SSE_15, MSA_15, MSE_15, F_15)"
   ]
  },
  {
   "cell_type": "markdown",
   "metadata": {},
   "source": [
    "Using online calculator, we have p value = 0.000084"
   ]
  },
  {
   "cell_type": "markdown",
   "metadata": {},
   "source": [
    "c. \n",
    "- alpha = 0.05\n",
    "- F(0.05,3,20) = 3.0984\n",
    "- 12.393812990008005 > 3.0984, therefore, there is evidence to suggest that the population mean amount of salt per serving is different for at least two varieties. "
   ]
  },
  {
   "cell_type": "markdown",
   "metadata": {},
   "source": [
    "11.17."
   ]
  },
  {
   "cell_type": "markdown",
   "metadata": {},
   "source": [
    "- H0: meanChicago = meanHonolulu = meanNewYork = meanSeattle = meanWashington\n",
    "- Ha: meani != meanj for some i != j"
   ]
  },
  {
   "cell_type": "code",
   "execution_count": 18,
   "metadata": {},
   "outputs": [
    {
     "name": "stdout",
     "output_type": "stream",
     "text": [
      "7.35492551099679\n"
     ]
    }
   ],
   "source": [
    "sample_size_17 = 14+18+20+15+19\n",
    "sum_17 = 463 + 620 + 506 + 356 + 586\n",
    "SST_17 = (16185 + 22458 + 13686 + 8964 + 18840) - (sum_17**2)/sample_size_17\n",
    "SSA_17 = (463**2/14 + 620**2/18 + 506**2/20 + 356**2/15 + 586**2/19)- (sum_17**2)/sample_size_17\n",
    "SSE_17 = SST_17 - SSA_17\n",
    "MSA_17 = SSA_17 / 4\n",
    "MSE_17 = SSE_17 / (sample_size_17 - 5)\n",
    "F_17 = MSA_17 / MSE_17\n",
    "print(F_17)\n"
   ]
  },
  {
   "cell_type": "markdown",
   "metadata": {},
   "source": [
    "- alpha = 0.05\n",
    "- F(0.05,4,81) = 2.48444\n",
    "- 7.35492551099679 > 2.48444, therefore, there is evidence that the population mean times through some pair of traffic bottlenecks are different."
   ]
  },
  {
   "cell_type": "markdown",
   "metadata": {},
   "source": [
    "11.28."
   ]
  },
  {
   "cell_type": "code",
   "execution_count": 19,
   "metadata": {},
   "outputs": [
    {
     "data": {
      "text/html": [
       "<div>\n",
       "<style scoped>\n",
       "    .dataframe tbody tr th:only-of-type {\n",
       "        vertical-align: middle;\n",
       "    }\n",
       "\n",
       "    .dataframe tbody tr th {\n",
       "        vertical-align: top;\n",
       "    }\n",
       "\n",
       "    .dataframe thead th {\n",
       "        text-align: right;\n",
       "    }\n",
       "</style>\n",
       "<table border=\"1\" class=\"dataframe\">\n",
       "  <thead>\n",
       "    <tr style=\"text-align: right;\">\n",
       "      <th></th>\n",
       "      <th>Shanghai</th>\n",
       "      <th>Singapore</th>\n",
       "      <th>Bejing</th>\n",
       "      <th>Hong Kong</th>\n",
       "      <th>Mexico City</th>\n",
       "      <th>Montreal</th>\n",
       "    </tr>\n",
       "  </thead>\n",
       "  <tbody>\n",
       "    <tr>\n",
       "      <th>0</th>\n",
       "      <td>23.74</td>\n",
       "      <td>22.36</td>\n",
       "      <td>28.54</td>\n",
       "      <td>25.06</td>\n",
       "      <td>18.69</td>\n",
       "      <td>26.45</td>\n",
       "    </tr>\n",
       "    <tr>\n",
       "      <th>1</th>\n",
       "      <td>6.96</td>\n",
       "      <td>14.27</td>\n",
       "      <td>24.25</td>\n",
       "      <td>41.96</td>\n",
       "      <td>17.20</td>\n",
       "      <td>29.48</td>\n",
       "    </tr>\n",
       "    <tr>\n",
       "      <th>2</th>\n",
       "      <td>30.50</td>\n",
       "      <td>24.77</td>\n",
       "      <td>11.52</td>\n",
       "      <td>17.77</td>\n",
       "      <td>27.55</td>\n",
       "      <td>30.21</td>\n",
       "    </tr>\n",
       "    <tr>\n",
       "      <th>3</th>\n",
       "      <td>14.64</td>\n",
       "      <td>16.46</td>\n",
       "      <td>12.54</td>\n",
       "      <td>19.47</td>\n",
       "      <td>16.44</td>\n",
       "      <td>23.64</td>\n",
       "    </tr>\n",
       "    <tr>\n",
       "      <th>4</th>\n",
       "      <td>9.13</td>\n",
       "      <td>20.82</td>\n",
       "      <td>20.68</td>\n",
       "      <td>18.13</td>\n",
       "      <td>35.36</td>\n",
       "      <td>26.79</td>\n",
       "    </tr>\n",
       "    <tr>\n",
       "      <th>5</th>\n",
       "      <td>12.35</td>\n",
       "      <td>13.76</td>\n",
       "      <td>22.95</td>\n",
       "      <td>35.05</td>\n",
       "      <td>27.01</td>\n",
       "      <td>18.62</td>\n",
       "    </tr>\n",
       "    <tr>\n",
       "      <th>6</th>\n",
       "      <td>16.86</td>\n",
       "      <td>31.80</td>\n",
       "      <td>16.08</td>\n",
       "      <td>19.84</td>\n",
       "      <td>22.84</td>\n",
       "      <td>30.83</td>\n",
       "    </tr>\n",
       "    <tr>\n",
       "      <th>7</th>\n",
       "      <td>17.44</td>\n",
       "      <td>26.20</td>\n",
       "      <td>20.94</td>\n",
       "      <td>37.86</td>\n",
       "      <td>15.08</td>\n",
       "      <td>29.78</td>\n",
       "    </tr>\n",
       "    <tr>\n",
       "      <th>8</th>\n",
       "      <td>16.13</td>\n",
       "      <td>21.19</td>\n",
       "      <td>21.72</td>\n",
       "      <td>31.76</td>\n",
       "      <td>2.86</td>\n",
       "      <td>26.22</td>\n",
       "    </tr>\n",
       "    <tr>\n",
       "      <th>9</th>\n",
       "      <td>12.51</td>\n",
       "      <td>21.53</td>\n",
       "      <td>19.57</td>\n",
       "      <td>13.68</td>\n",
       "      <td>27.30</td>\n",
       "      <td>30.24</td>\n",
       "    </tr>\n",
       "    <tr>\n",
       "      <th>10</th>\n",
       "      <td>23.34</td>\n",
       "      <td>14.30</td>\n",
       "      <td>20.99</td>\n",
       "      <td>11.71</td>\n",
       "      <td>17.58</td>\n",
       "      <td>31.19</td>\n",
       "    </tr>\n",
       "    <tr>\n",
       "      <th>11</th>\n",
       "      <td>13.34</td>\n",
       "      <td>14.29</td>\n",
       "      <td>13.61</td>\n",
       "      <td>20.32</td>\n",
       "      <td>25.84</td>\n",
       "      <td>16.43</td>\n",
       "    </tr>\n",
       "    <tr>\n",
       "      <th>12</th>\n",
       "      <td>18.32</td>\n",
       "      <td>14.30</td>\n",
       "      <td>28.60</td>\n",
       "      <td>25.91</td>\n",
       "      <td>23.22</td>\n",
       "      <td>35.48</td>\n",
       "    </tr>\n",
       "    <tr>\n",
       "      <th>13</th>\n",
       "      <td>6.30</td>\n",
       "      <td>16.71</td>\n",
       "      <td>23.19</td>\n",
       "      <td>21.03</td>\n",
       "      <td>20.98</td>\n",
       "      <td>28.45</td>\n",
       "    </tr>\n",
       "    <tr>\n",
       "      <th>14</th>\n",
       "      <td>10.74</td>\n",
       "      <td>17.91</td>\n",
       "      <td>17.81</td>\n",
       "      <td>16.12</td>\n",
       "      <td>NaN</td>\n",
       "      <td>26.78</td>\n",
       "    </tr>\n",
       "    <tr>\n",
       "      <th>15</th>\n",
       "      <td>NaN</td>\n",
       "      <td>15.91</td>\n",
       "      <td>20.73</td>\n",
       "      <td>29.71</td>\n",
       "      <td>NaN</td>\n",
       "      <td>NaN</td>\n",
       "    </tr>\n",
       "    <tr>\n",
       "      <th>16</th>\n",
       "      <td>NaN</td>\n",
       "      <td>NaN</td>\n",
       "      <td>11.25</td>\n",
       "      <td>29.99</td>\n",
       "      <td>NaN</td>\n",
       "      <td>NaN</td>\n",
       "    </tr>\n",
       "    <tr>\n",
       "      <th>17</th>\n",
       "      <td>NaN</td>\n",
       "      <td>NaN</td>\n",
       "      <td>13.36</td>\n",
       "      <td>31.23</td>\n",
       "      <td>NaN</td>\n",
       "      <td>NaN</td>\n",
       "    </tr>\n",
       "    <tr>\n",
       "      <th>18</th>\n",
       "      <td>NaN</td>\n",
       "      <td>NaN</td>\n",
       "      <td>27.62</td>\n",
       "      <td>21.28</td>\n",
       "      <td>NaN</td>\n",
       "      <td>NaN</td>\n",
       "    </tr>\n",
       "    <tr>\n",
       "      <th>19</th>\n",
       "      <td>NaN</td>\n",
       "      <td>NaN</td>\n",
       "      <td>18.69</td>\n",
       "      <td>24.97</td>\n",
       "      <td>NaN</td>\n",
       "      <td>NaN</td>\n",
       "    </tr>\n",
       "  </tbody>\n",
       "</table>\n",
       "</div>"
      ],
      "text/plain": [
       "    Shanghai  Singapore  Bejing  Hong Kong  Mexico City  Montreal\n",
       "0      23.74      22.36   28.54      25.06        18.69     26.45\n",
       "1       6.96      14.27   24.25      41.96        17.20     29.48\n",
       "2      30.50      24.77   11.52      17.77        27.55     30.21\n",
       "3      14.64      16.46   12.54      19.47        16.44     23.64\n",
       "4       9.13      20.82   20.68      18.13        35.36     26.79\n",
       "5      12.35      13.76   22.95      35.05        27.01     18.62\n",
       "6      16.86      31.80   16.08      19.84        22.84     30.83\n",
       "7      17.44      26.20   20.94      37.86        15.08     29.78\n",
       "8      16.13      21.19   21.72      31.76         2.86     26.22\n",
       "9      12.51      21.53   19.57      13.68        27.30     30.24\n",
       "10     23.34      14.30   20.99      11.71        17.58     31.19\n",
       "11     13.34      14.29   13.61      20.32        25.84     16.43\n",
       "12     18.32      14.30   28.60      25.91        23.22     35.48\n",
       "13      6.30      16.71   23.19      21.03        20.98     28.45\n",
       "14     10.74      17.91   17.81      16.12          NaN     26.78\n",
       "15       NaN      15.91   20.73      29.71          NaN       NaN\n",
       "16       NaN        NaN   11.25      29.99          NaN       NaN\n",
       "17       NaN        NaN   13.36      31.23          NaN       NaN\n",
       "18       NaN        NaN   27.62      21.28          NaN       NaN\n",
       "19       NaN        NaN   18.69      24.97          NaN       NaN"
      ]
     },
     "execution_count": 19,
     "metadata": {},
     "output_type": "execute_result"
    }
   ],
   "source": [
    "data_28 = pd.read_excel(r\"D:\\stat\\Tex-_Datasets\\Chapter 11\\ex11-28expense.xls\")\n",
    "data_28"
   ]
  },
  {
   "cell_type": "markdown",
   "metadata": {},
   "source": [
    "- H0: meanShanghai = meanSingapore = meanBejing = meanHongkong = meanMexicoCity = meanMontreal\n",
    "- Ha: meani != meanj for some i != j"
   ]
  },
  {
   "cell_type": "code",
   "execution_count": 20,
   "metadata": {},
   "outputs": [
    {
     "name": "stdout",
     "output_type": "stream",
     "text": [
      "6.665792546172569\n"
     ]
    }
   ],
   "source": [
    "sample_size_28 = data_28.count().sum()\n",
    "sum_28 = data_28.sum().sum()\n",
    "SST_28 = (data_28**2).sum().sum() - (sum_28**2) / sample_size_28\n",
    "SSA_28 =  ((data_28[\"Shanghai\"].sum())**2/15 + (data_28[\"Singapore\"].sum())**2/16 + \n",
    "           (data_28[\"Bejing\"].sum())**2/20 + (data_28[\"Hong Kong\"].sum())**2/20 + \n",
    "           (data_28[\"Mexico City\"].sum())**2/14 + (data_28[\"Montreal\"].sum())**2/15) - (sum_28**2) / sample_size_28\n",
    "SSE_28 = SST_28 - SSA_28\n",
    "MSA_28 = SSA_28 / (6-1)\n",
    "MSE_28 = SSE_28 / (sample_size_28 - 6)\n",
    "F_28 = MSA_28 / MSE_28\n",
    "print(F_28)"
   ]
  },
  {
   "cell_type": "markdown",
   "metadata": {},
   "source": [
    "- alpha = 0.01\n",
    "- F(0.01, 5, 94) = 3.21835\n",
    "- 6.665792546172569 > 3.21835, therefore, there is evidence to suggest that at least two of the population mean amounts spent on ground transportation are different."
   ]
  },
  {
   "cell_type": "markdown",
   "metadata": {},
   "source": [
    "11.44. (Sorry I don't know how to graph)"
   ]
  },
  {
   "cell_type": "markdown",
   "metadata": {},
   "source": [
    "a. \n",
    "- mean1 and mean2 are not significantly different.\n",
    "- mean1 and mean3 are not significantly different.\n",
    "- mean2 and mean3 are not significantly different.\n",
    "- All due to 0 in CI (for each group)."
   ]
  },
  {
   "cell_type": "markdown",
   "metadata": {},
   "source": [
    "b.\n",
    "- mean1 and mean2 are significantly different (0 not in CI).\n",
    "- mean1 and mean3 are not significantly different (0 in CI).\n",
    "- mean2 and mean3 are not significantly different (0 in CI)."
   ]
  },
  {
   "cell_type": "markdown",
   "metadata": {},
   "source": [
    "c.\n",
    "- mean1 and mean2 are significantly different (0 not in CI).\n",
    "- mean1 and mean3 are not significantly different (0 in CI).\n",
    "- mean1 and mean4 are not significantly different (0 in CI).\n",
    "- mean2 and mean3 are not significantly different (0 in CI).\n",
    "- mean2 and mean4 are significantly different (0 not in CI).\n",
    "- mean3 and mean4 are not significantly different (0 in CI)."
   ]
  },
  {
   "cell_type": "markdown",
   "metadata": {},
   "source": [
    "d. \n",
    "- mean1 and mean2 are significantly different (0 not in CI).\n",
    "- mean1 and mean3 are significantly different (0 not in CI).\n",
    "- mean1 and mean4 are not significantly different (0 in CI).\n",
    "- mean2 and mean3 are not significantly different (0 in CI).\n",
    "- mean2 and mean4 are significantly different (0 not in CI).\n",
    "- mean3 and mean4 are significantly different (0 not in CI)."
   ]
  },
  {
   "cell_type": "markdown",
   "metadata": {},
   "source": [
    "11.55."
   ]
  },
  {
   "cell_type": "code",
   "execution_count": 21,
   "metadata": {},
   "outputs": [
    {
     "data": {
      "text/html": [
       "<div>\n",
       "<style scoped>\n",
       "    .dataframe tbody tr th:only-of-type {\n",
       "        vertical-align: middle;\n",
       "    }\n",
       "\n",
       "    .dataframe tbody tr th {\n",
       "        vertical-align: top;\n",
       "    }\n",
       "\n",
       "    .dataframe thead th {\n",
       "        text-align: right;\n",
       "    }\n",
       "</style>\n",
       "<table border=\"1\" class=\"dataframe\">\n",
       "  <thead>\n",
       "    <tr style=\"text-align: right;\">\n",
       "      <th></th>\n",
       "      <th>North</th>\n",
       "      <th>South</th>\n",
       "      <th>Midwest</th>\n",
       "      <th>West</th>\n",
       "    </tr>\n",
       "  </thead>\n",
       "  <tbody>\n",
       "    <tr>\n",
       "      <th>0</th>\n",
       "      <td>68.2</td>\n",
       "      <td>70.3</td>\n",
       "      <td>69.3</td>\n",
       "      <td>79.8</td>\n",
       "    </tr>\n",
       "    <tr>\n",
       "      <th>1</th>\n",
       "      <td>65.8</td>\n",
       "      <td>76.8</td>\n",
       "      <td>64.4</td>\n",
       "      <td>69.1</td>\n",
       "    </tr>\n",
       "    <tr>\n",
       "      <th>2</th>\n",
       "      <td>71.2</td>\n",
       "      <td>78.8</td>\n",
       "      <td>66.9</td>\n",
       "      <td>82.5</td>\n",
       "    </tr>\n",
       "    <tr>\n",
       "      <th>3</th>\n",
       "      <td>73.4</td>\n",
       "      <td>68.6</td>\n",
       "      <td>70.0</td>\n",
       "      <td>80.0</td>\n",
       "    </tr>\n",
       "    <tr>\n",
       "      <th>4</th>\n",
       "      <td>62.1</td>\n",
       "      <td>72.6</td>\n",
       "      <td>62.5</td>\n",
       "      <td>76.3</td>\n",
       "    </tr>\n",
       "    <tr>\n",
       "      <th>5</th>\n",
       "      <td>59.5</td>\n",
       "      <td>77.3</td>\n",
       "      <td>60.2</td>\n",
       "      <td>79.0</td>\n",
       "    </tr>\n",
       "  </tbody>\n",
       "</table>\n",
       "</div>"
      ],
      "text/plain": [
       "   North  South  Midwest  West\n",
       "0   68.2   70.3     69.3  79.8\n",
       "1   65.8   76.8     64.4  69.1\n",
       "2   71.2   78.8     66.9  82.5\n",
       "3   73.4   68.6     70.0  80.0\n",
       "4   62.1   72.6     62.5  76.3\n",
       "5   59.5   77.3     60.2  79.0"
      ]
     },
     "execution_count": 21,
     "metadata": {},
     "output_type": "execute_result"
    }
   ],
   "source": [
    "data_55 = pd.read_excel(r\"D:\\stat\\Tex-_Datasets\\Chapter 11\\ex11-55honey.xls\")\n",
    "data_55"
   ]
  },
  {
   "cell_type": "markdown",
   "metadata": {},
   "source": [
    "- H0: meanNorth = meanSouth = meanMidwest = meanWest\n",
    "- Ha: meani != meanj  for some i != j"
   ]
  },
  {
   "cell_type": "markdown",
   "metadata": {},
   "source": [
    "a."
   ]
  },
  {
   "cell_type": "code",
   "execution_count": 22,
   "metadata": {},
   "outputs": [
    {
     "name": "stdout",
     "output_type": "stream",
     "text": [
      "1034.6449999999604 621.6483333333163 412.99666666664416 207.21611111110542 20.649833333332207 10.034759494965256\n"
     ]
    }
   ],
   "source": [
    "sample_size_55 = data_55.count().sum()\n",
    "sum_55 = data_55.sum().sum()\n",
    "SST_55 = (data_55**2).sum().sum() - (sum_55**2) / sample_size_55\n",
    "SSA_55 = ((((data_55.sum())**2)/6).sum()) - (sum_55**2) / sample_size_55\n",
    "SSE_55 = SST_55 - SSA_55\n",
    "MSA_55 = SSA_55 / (4-1)\n",
    "MSE_55 = SSE_55 / (sample_size_55 - 4)\n",
    "F_55 = MSA_55 / MSE_55\n",
    "print(SST_55, SSA_55, SSE_55, MSA_55, MSE_55, F_55)"
   ]
  },
  {
   "cell_type": "markdown",
   "metadata": {},
   "source": [
    "- alpha = 0.05\n",
    "- F(0.05,3,20) = 3.0984\n",
    "- 10.034759494965256 > 3.0984, therefore, there is evidence of an overall difference in population mean honey production."
   ]
  },
  {
   "cell_type": "markdown",
   "metadata": {},
   "source": [
    "b."
   ]
  },
  {
   "cell_type": "markdown",
   "metadata": {},
   "source": [
    "Number of pairwise comparisons: 4*3/2 = 6"
   ]
  },
  {
   "cell_type": "code",
   "execution_count": 23,
   "metadata": {},
   "outputs": [
    {
     "name": "stdout",
     "output_type": "stream",
     "text": [
      "0.004166666666666667\n"
     ]
    }
   ],
   "source": [
    "mean_North_55 = data_55[\"North\"].mean()\n",
    "mean_South_55 = data_55[\"South\"].mean()\n",
    "mean_Midwest_55 = data_55[\"Midwest\"].mean()\n",
    "mean_West_55 = data_55[\"West\"].mean()\n",
    "print(0.05 / (2*6))"
   ]
  },
  {
   "cell_type": "markdown",
   "metadata": {},
   "source": [
    "t(0.0042,20) = 2.923557"
   ]
  },
  {
   "cell_type": "markdown",
   "metadata": {},
   "source": [
    "- North and South:"
   ]
  },
  {
   "cell_type": "code",
   "execution_count": 27,
   "metadata": {},
   "outputs": [
    {
     "data": {
      "text/plain": [
       "(-15.036911267503733, 0.30357793417038526)"
      ]
     },
     "execution_count": 27,
     "metadata": {},
     "output_type": "execute_result"
    }
   ],
   "source": [
    "CI_North_South_55 = ((mean_North_55 - mean_South_55) - 2.923557*math.sqrt(MSE_55)*math.sqrt(1/6 + 1/6), \n",
    "                     (mean_North_55 - mean_South_55) + 2.923557*math.sqrt(MSE_55)*math.sqrt(1/6 + 1/6))\n",
    "CI_North_South_55"
   ]
  },
  {
   "cell_type": "markdown",
   "metadata": {},
   "source": [
    "meanNorth and meanSouth are not significantly different (0 in CI)."
   ]
  },
  {
   "cell_type": "markdown",
   "metadata": {},
   "source": [
    "- North and Midwest:"
   ]
  },
  {
   "cell_type": "code",
   "execution_count": 28,
   "metadata": {},
   "outputs": [
    {
     "data": {
      "text/plain": [
       "(-6.520244600837054, 8.820244600837064)"
      ]
     },
     "execution_count": 28,
     "metadata": {},
     "output_type": "execute_result"
    }
   ],
   "source": [
    "CI_North_Midwest_55 = ((mean_North_55 - mean_Midwest_55) - 2.923557*math.sqrt(MSE_55)*math.sqrt(1/6 + 1/6), \n",
    "                     (mean_North_55 - mean_Midwest_55) + 2.923557*math.sqrt(MSE_55)*math.sqrt(1/6 + 1/6))\n",
    "CI_North_Midwest_55"
   ]
  },
  {
   "cell_type": "markdown",
   "metadata": {},
   "source": [
    "meanNorth and meanMidwest are not significantly different (0 in CI)."
   ]
  },
  {
   "cell_type": "markdown",
   "metadata": {},
   "source": [
    "- North and West:"
   ]
  },
  {
   "cell_type": "code",
   "execution_count": 29,
   "metadata": {},
   "outputs": [
    {
     "data": {
      "text/plain": [
       "(-18.753577934170387, -3.413088732496269)"
      ]
     },
     "execution_count": 29,
     "metadata": {},
     "output_type": "execute_result"
    }
   ],
   "source": [
    "CI_North_West_55 = ((mean_North_55 - mean_West_55) - 2.923557*math.sqrt(MSE_55)*math.sqrt(1/6 + 1/6), \n",
    "                     (mean_North_55 - mean_West_55) + 2.923557*math.sqrt(MSE_55)*math.sqrt(1/6 + 1/6))\n",
    "CI_North_West_55"
   ]
  },
  {
   "cell_type": "markdown",
   "metadata": {},
   "source": [
    "meanNorth and meanWest are significantly different (0 not in CI)."
   ]
  },
  {
   "cell_type": "markdown",
   "metadata": {},
   "source": [
    "- South and Midwest:"
   ]
  },
  {
   "cell_type": "code",
   "execution_count": 30,
   "metadata": {},
   "outputs": [
    {
     "data": {
      "text/plain": [
       "(0.8464220658296204, 16.18691126750374)"
      ]
     },
     "execution_count": 30,
     "metadata": {},
     "output_type": "execute_result"
    }
   ],
   "source": [
    "CI_South_Midwest_55 = ((mean_South_55 - mean_Midwest_55) - 2.923557*math.sqrt(MSE_55)*math.sqrt(1/6 + 1/6), \n",
    "                     (mean_South_55 - mean_Midwest_55) + 2.923557*math.sqrt(MSE_55)*math.sqrt(1/6 + 1/6))\n",
    "CI_South_Midwest_55"
   ]
  },
  {
   "cell_type": "markdown",
   "metadata": {},
   "source": [
    "meanSouth and meanMidwest are significantly different (0 not in CI)."
   ]
  },
  {
   "cell_type": "markdown",
   "metadata": {},
   "source": [
    "- South and West:"
   ]
  },
  {
   "cell_type": "code",
   "execution_count": 31,
   "metadata": {},
   "outputs": [
    {
     "data": {
      "text/plain": [
       "(-11.386911267503713, 3.953577934170405)"
      ]
     },
     "execution_count": 31,
     "metadata": {},
     "output_type": "execute_result"
    }
   ],
   "source": [
    "CI_South_West_55 = ((mean_South_55 - mean_West_55) - 2.923557*math.sqrt(MSE_55)*math.sqrt(1/6 + 1/6), \n",
    "                     (mean_South_55 - mean_West_55) + 2.923557*math.sqrt(MSE_55)*math.sqrt(1/6 + 1/6))\n",
    "CI_South_West_55"
   ]
  },
  {
   "cell_type": "markdown",
   "metadata": {},
   "source": [
    "meanSouth and meanWest are not significantly different (0 in CI)."
   ]
  },
  {
   "cell_type": "markdown",
   "metadata": {},
   "source": [
    "- Midwest and West:"
   ]
  },
  {
   "cell_type": "code",
   "execution_count": 32,
   "metadata": {},
   "outputs": [
    {
     "data": {
      "text/plain": [
       "(-19.903577934170393, -4.563088732496275)"
      ]
     },
     "execution_count": 32,
     "metadata": {},
     "output_type": "execute_result"
    }
   ],
   "source": [
    "CI_Midwest_West_55 = ((mean_Midwest_55 - mean_West_55) - 2.923557*math.sqrt(MSE_55)*math.sqrt(1/6 + 1/6), \n",
    "                     (mean_Midwest_55 - mean_West_55) + 2.923557*math.sqrt(MSE_55)*math.sqrt(1/6 + 1/6))\n",
    "CI_Midwest_West_55"
   ]
  },
  {
   "cell_type": "markdown",
   "metadata": {},
   "source": [
    "meanMidwest and meanWest are significantly different (0 not in CI)."
   ]
  },
  {
   "cell_type": "markdown",
   "metadata": {},
   "source": [
    "c. (Sorry I don't know how to graph)"
   ]
  },
  {
   "cell_type": "markdown",
   "metadata": {},
   "source": [
    "Not significantly different groups are:\n",
    "- North and South\n",
    "- North and Midwest\n",
    "- South and West\n"
   ]
  },
  {
   "cell_type": "markdown",
   "metadata": {},
   "source": [
    "Significantly different groups are:\n",
    "- North and West\n",
    "- South and Midwest\n",
    "- Midwest and West"
   ]
  }
 ],
 "metadata": {
  "kernelspec": {
   "display_name": "Python 3",
   "language": "python",
   "name": "python3"
  },
  "language_info": {
   "codemirror_mode": {
    "name": "ipython",
    "version": 3
   },
   "file_extension": ".py",
   "mimetype": "text/x-python",
   "name": "python",
   "nbconvert_exporter": "python",
   "pygments_lexer": "ipython3",
   "version": "3.11.1"
  }
 },
 "nbformat": 4,
 "nbformat_minor": 2
}
