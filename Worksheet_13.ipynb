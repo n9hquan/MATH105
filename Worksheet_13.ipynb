{
 "cells": [
  {
   "cell_type": "markdown",
   "metadata": {},
   "source": [
    "Authors: Nguyen Hoang Nhat Tan, Nguyen Chinh Quan, Luu Ha Minh Khoi"
   ]
  },
  {
   "cell_type": "code",
   "execution_count": 1,
   "metadata": {},
   "outputs": [],
   "source": [
    "import pandas as pd\n",
    "import numpy as np\n",
    "import math"
   ]
  },
  {
   "cell_type": "markdown",
   "metadata": {},
   "source": [
    "alpha for all cases = 0.05 -> z = 1.64"
   ]
  },
  {
   "cell_type": "markdown",
   "metadata": {},
   "source": [
    "a)"
   ]
  },
  {
   "cell_type": "markdown",
   "metadata": {},
   "source": [
    "PhD > all (income) -> All - PhD < 0 (Left-tail)"
   ]
  },
  {
   "cell_type": "code",
   "execution_count": 2,
   "metadata": {},
   "outputs": [
    {
     "name": "stdout",
     "output_type": "stream",
     "text": [
      "-3.604814209032998\n",
      "52247.25135379061 56145.31392931393 481 2216 633683788.5756189 424894944.3574931\n"
     ]
    }
   ],
   "source": [
    "data = pd.read_csv(r\"C:\\Users\\narum\\Downloads\\marketing_campaign.csv\",sep = '\\t')\n",
    "data = data.dropna(subset= [\"Income\"])\n",
    "mean_Income = data.Income.mean()\n",
    "PhD_mean_Income = data[data[\"Education\"] == \"PhD\"].Income.mean()\n",
    "variance_Income = data.Income.var()\n",
    "PhD_variance_Income = data[data[\"Education\"] == \"PhD\"].Income.var()\n",
    "z_Income = ((mean_Income - PhD_mean_Income) - 0 )/ math.sqrt((variance_Income/2216) + (PhD_variance_Income/481))\n",
    "print(z_Income)\n",
    "print(mean_Income, PhD_mean_Income, len(data[data[\"Education\"] == \"PhD\"]), len(data), variance_Income, PhD_variance_Income)"
   ]
  },
  {
   "cell_type": "markdown",
   "metadata": {},
   "source": [
    "z_income < z_alpha (-3.6 < -1.64), therefore there is evidence to say that the average income of customers with PhD is higher than \n",
    "the average of all customers."
   ]
  },
  {
   "cell_type": "markdown",
   "metadata": {},
   "source": [
    "b)"
   ]
  },
  {
   "cell_type": "markdown",
   "metadata": {},
   "source": [
    "Single > Married -> Single - Married > 0 (Right-tail)"
   ]
  },
  {
   "cell_type": "code",
   "execution_count": 3,
   "metadata": {},
   "outputs": [
    {
     "name": "stdout",
     "output_type": "stream",
     "text": [
      "-0.584863735563412\n",
      "288.33125 299.4803240740741 480 864 110963.1572677453 114231.83738761212\n"
     ]
    }
   ],
   "source": [
    "data = pd.read_csv(r\"C:\\Users\\narum\\Downloads\\marketing_campaign.csv\",sep = '\\t')\n",
    "data = data.dropna(subset= [\"MntWines\"])\n",
    "single_wine = data[data[\"Marital_Status\"] == \"Single\"].MntWines.mean()\n",
    "married_wine = data[data[\"Marital_Status\"] == \"Married\"].MntWines.mean()\n",
    "single_wine_variance = data[data[\"Marital_Status\"] == \"Single\"].MntWines.var()\n",
    "married_wine_variance = data[data[\"Marital_Status\"] == \"Married\"].MntWines.var()\n",
    "z_wine = ((single_wine - married_wine) - 0)/ math.sqrt(single_wine_variance/480 + married_wine_variance/864)\n",
    "print(z_wine)\n",
    "print(single_wine, married_wine, len(data[data[\"Marital_Status\"] == \"Single\"]), len(data[data[\"Marital_Status\"] == \"Married\"]), single_wine_variance, married_wine_variance)"
   ]
  },
  {
   "cell_type": "markdown",
   "metadata": {},
   "source": [
    "z_wine < z_alpha (-0.58 < 1.64), therefore there is no evidence to conclude that the single customers spending more on wine products \n",
    "than the married customers."
   ]
  },
  {
   "cell_type": "markdown",
   "metadata": {},
   "source": [
    "c)\n"
   ]
  },
  {
   "cell_type": "markdown",
   "metadata": {},
   "source": [
    "masters_PhD_sober < else_sober -> masters_PhD_sober - else_sober < 0 (Left-tail)"
   ]
  },
  {
   "cell_type": "code",
   "execution_count": 4,
   "metadata": {},
   "outputs": [
    {
     "name": "stdout",
     "output_type": "stream",
     "text": [
      "58.0946261682243 164.90537383177568 215.40173410404623 330.5982658959538\n",
      "-6.490032847663205\n",
      "856 1384\n"
     ]
    }
   ],
   "source": [
    "data = pd.read_csv(r\"C:\\Users\\narum\\Downloads\\marketing_campaign.csv\",sep = '\\t')\n",
    "data = data.dropna(subset=  [\"MntWines\"])\n",
    "# masters_PhD_sober = data[((data[\"Education\"] == \"PhD\") | (data[\"Education\"] == \"Master\")) & (data.MntWines < 50)].MntWines.mean()\n",
    "# else_sober = data[((data[\"Education\"] != \"PhD\") & (data[\"Education\"] != \"Master\")) & (data.MntWines < 50)].MntWines.mean()\n",
    "# masters_PhD_sober_var = data[((data[\"Education\"] == \"PhD\") | (data[\"Education\"] == \"Master\")) & (data.MntWines < 50)].MntWines.var()\n",
    "# else_sober_var = data[((data[\"Education\"] != \"PhD\") & (data[\"Education\"] != \"Master\")) & (data.MntWines < 50)].MntWines.var()\n",
    "# z_sober = ((masters_PhD_sober - else_sober) - 0) / math.sqrt(masters_PhD_sober_var/223 + else_sober_var/546)\n",
    "# print(z_sober)\n",
    "n1_sober = len(data[((data[\"Education\"] == \"PhD\") | (data[\"Education\"] == \"Master\"))].MntWines)\n",
    "n2_sober = len(data[((data[\"Education\"] != \"PhD\") & (data[\"Education\"] != \"Master\"))].MntWines)\n",
    "p1 = 223 / 856\n",
    "p2 = 546 / 1384\n",
    "pc = (223+546) / (856+1384)\n",
    "print(223*p1, 223*(1-p1), 546*p2, 546*(1-p2))\n",
    "z_sober = (p1-p2)/math.sqrt(pc*(1-pc)*((1/856)+(1/1384)))\n",
    "print(z_sober)\n",
    "print(n1_sober, n2_sober)\n",
    "# print(masters_PhD_sober, else_sober, \n",
    "#       len(data[((data[\"Education\"] == \"PhD\") | (data[\"Education\"] == \"Master\")) & (data.MntWines < 50)].MntWines), \n",
    "#       len(data[((data[\"Education\"] != \"PhD\") & (data[\"Education\"] != \"Master\")) & (data.MntWines < 50)].MntWines),\n",
    "#       masters_PhD_sober_var, else_sober_var)"
   ]
  },
  {
   "cell_type": "markdown",
   "metadata": {},
   "source": [
    "z_sober < z_alpha (-6.49 < 1.64), therefore there is evidence to conclude that the proportion of customers with Master or PhD degrees who are sober is less than the proportion of other customers (without Master or PhD degrees) who are sober."
   ]
  },
  {
   "cell_type": "markdown",
   "metadata": {},
   "source": [
    "d)"
   ]
  },
  {
   "cell_type": "markdown",
   "metadata": {},
   "source": [
    "PhD > all (MntFruits) -> All - PhD < 0 (Left-tail)"
   ]
  },
  {
   "cell_type": "code",
   "execution_count": 5,
   "metadata": {},
   "outputs": [
    {
     "name": "stdout",
     "output_type": "stream",
     "text": [
      "3.6435894719502766\n",
      "26.302232142857143 20.049382716049383 486 2240 1581.9260334253172 1073.2140511645666\n"
     ]
    }
   ],
   "source": [
    "data = pd.read_csv(r\"C:\\Users\\narum\\Downloads\\marketing_campaign.csv\",sep = '\\t')\n",
    "data = data.dropna(subset= [\"MntFruits\"])\n",
    "mean_Fruits = data.MntFruits.mean()\n",
    "PhD_mean_Fruits = data[data[\"Education\"] == \"PhD\"].MntFruits.mean()\n",
    "variance_Fruits = data.MntFruits.var()\n",
    "PhD_variance_Fruits = data[data[\"Education\"] == \"PhD\"].MntFruits.var()\n",
    "z_Fruits = ((mean_Fruits - PhD_mean_Fruits) - 0 )/ math.sqrt((variance_Fruits/2216) + (PhD_variance_Fruits/481))\n",
    "print(z_Fruits)\n",
    "print(mean_Fruits, PhD_mean_Fruits, len(data[data[\"Education\"] == \"PhD\"]), len(data), variance_Fruits, PhD_variance_Fruits)"
   ]
  },
  {
   "cell_type": "markdown",
   "metadata": {},
   "source": [
    "z_Fruits > z_alpha (3.64 > -1.64), therefore there is no evidence to say that the average amount spent on fruits products in the last 2 years of customers with PhD is higher than the average amount spent on fruits products in the last 2 years of all customers."
   ]
  }
 ],
 "metadata": {
  "kernelspec": {
   "display_name": "Python 3",
   "language": "python",
   "name": "python3"
  },
  "language_info": {
   "codemirror_mode": {
    "name": "ipython",
    "version": 3
   },
   "file_extension": ".py",
   "mimetype": "text/x-python",
   "name": "python",
   "nbconvert_exporter": "python",
   "pygments_lexer": "ipython3",
   "version": "3.11.1"
  }
 },
 "nbformat": 4,
 "nbformat_minor": 2
}
